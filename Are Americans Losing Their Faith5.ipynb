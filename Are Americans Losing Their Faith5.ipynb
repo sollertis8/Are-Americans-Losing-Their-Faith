{
 "cells": [
  {
   "cell_type": "markdown",
   "metadata": {},
   "source": [
    "# Are Americans Losing Their Faith?"
   ]
  },
  {
   "cell_type": "markdown",
   "metadata": {},
   "source": [
    "### By Korrenti Mayweather"
   ]
  },
  {
   "cell_type": "markdown",
   "metadata": {},
   "source": [
    "Since the pre-modern era, human beings have pondered our existentence and reflected on our place in the Universe.  We began expressing our sense of purpose through the belief that there must be some intelligence greater than ourselves responsible for our existence and began dedicating our lives to please these entities, deifying them.  With the prevalence of the internet and thus information being more readily available in developed countries like the United States, there is a sense that the glamor of faith is beginning to lose its luster.  \n",
    "\n",
    "So, are Americans losing their faith?  To explore this question, we must first define \"faith\".  For this, we'll defer to the Oxford dictionary's definition of faith - \"Strong belief in the doctrines of a religion, based on spiritual conviction rather than proof\".  Since the most prominent religion in the United States, Christianity, was formed around the idea of the existence of a deity, we'll extend our definition of faith to include a belief in a deity (namely, the Christian God) as well.  Now that we have faith defined, we will seek an answer to three questions:  \n",
    "\n",
    "1. What does it mean to lose faith?\n",
    "\n",
    "2. What factors can be said to contribute to the loss of faith?\n",
    "\n",
    "3. Of those factors that contribute to a loss of faith, which has had the greatest effect?"
   ]
  },
  {
   "cell_type": "markdown",
   "metadata": {},
   "source": [
    "## What does it mean to lose faith?"
   ]
  },
  {
   "cell_type": "markdown",
   "metadata": {},
   "source": [
    "To answer our first question, since the act of having faith was built on the foundation of belief, we can justify the idea of losing faith to mean that one no longer believes in one's religion and, perhaps more importantly, it's deity.  Since we are dealing with a change in culture over time, its important to note that faith can not only be lost on an individual basis, but also from generation to genration.   "
   ]
  },
  {
   "cell_type": "markdown",
   "metadata": {},
   "source": [
    "## Our Data"
   ]
  },
  {
   "cell_type": "markdown",
   "metadata": {},
   "source": [
    "For our exploration toward answering these questions, we'll use three datasets: the World Religion Dataset from ARDA (the Association of Religion Data Archiives) that spans 13 waves from 1945 to 2010, the 2014 U.S. Internet Use Survey by the U.S. Census Bureau, and the 2014 Religious Landscape Study dataset from the Pew Research Center.  Let's start with a histogram of our first dataset to assess whether our data is normally distributed, meaning, 67% of our data falls within one standard deviation of the mean.  We do this by using the probability density function for a normally distributed variable:"
   ]
  },
  {
   "cell_type": "markdown",
   "metadata": {},
   "source": [
    "\\begin{equation}\n",
    "f(x|\\mu,\\sigma^2)=\\frac1{\\sqrt{2\\sigma^2\\pi}}e^{-\\frac{(x-\\mu)^2}{2\\sigma^2}}\n",
    "\\end{equation} "
   ]
  },
  {
   "cell_type": "code",
   "execution_count": 1,
   "metadata": {
    "collapsed": false
   },
   "outputs": [
    {
     "ename": "NameError",
     "evalue": "name 'christian' is not defined",
     "output_type": "error",
     "traceback": [
      "\u001b[0;31m---------------------------------------------------------------------------\u001b[0m",
      "\u001b[0;31mNameError\u001b[0m                                 Traceback (most recent call last)",
      "\u001b[0;32m<ipython-input-1-a50393011cad>\u001b[0m in \u001b[0;36m<module>\u001b[0;34m()\u001b[0m\n\u001b[1;32m     26\u001b[0m \u001b[0mplt\u001b[0m\u001b[0;34m.\u001b[0m\u001b[0maxvline\u001b[0m\u001b[0;34m(\u001b[0m\u001b[0mnorm\u001b[0m\u001b[0;34m.\u001b[0m\u001b[0mmean\u001b[0m\u001b[0;34m(\u001b[0m\u001b[0;34m)\u001b[0m\u001b[0;34m+\u001b[0m\u001b[0mnorm\u001b[0m\u001b[0;34m.\u001b[0m\u001b[0mstd\u001b[0m\u001b[0;34m(\u001b[0m\u001b[0;34m)\u001b[0m\u001b[0;34m,\u001b[0m \u001b[0mcolor\u001b[0m\u001b[0;34m=\u001b[0m\u001b[0;34m'b'\u001b[0m\u001b[0;34m,\u001b[0m \u001b[0mlinestyle\u001b[0m\u001b[0;34m=\u001b[0m\u001b[0;34m'dashed'\u001b[0m\u001b[0;34m,\u001b[0m \u001b[0mlinewidth\u001b[0m\u001b[0;34m=\u001b[0m\u001b[0;36m2\u001b[0m\u001b[0;34m)\u001b[0m\u001b[0;34m\u001b[0m\u001b[0m\n\u001b[1;32m     27\u001b[0m \u001b[0;34m\u001b[0m\u001b[0m\n\u001b[0;32m---> 28\u001b[0;31m \u001b[0msumrelig\u001b[0m \u001b[0;34m=\u001b[0m \u001b[0mplt\u001b[0m\u001b[0;34m.\u001b[0m\u001b[0mhist\u001b[0m\u001b[0;34m(\u001b[0m\u001b[0mchristian\u001b[0m\u001b[0;34m,\u001b[0m \u001b[0mnormed\u001b[0m\u001b[0;34m=\u001b[0m\u001b[0;32mTrue\u001b[0m\u001b[0;34m,\u001b[0m \u001b[0mcolor\u001b[0m\u001b[0;34m=\u001b[0m\u001b[0;34m'blue'\u001b[0m\u001b[0;34m,\u001b[0m \u001b[0mlabel\u001b[0m\u001b[0;34m=\u001b[0m\u001b[0;34m'Religious'\u001b[0m\u001b[0;34m,\u001b[0m \u001b[0malpha\u001b[0m\u001b[0;34m=\u001b[0m\u001b[0;36m.5\u001b[0m\u001b[0;34m)\u001b[0m\u001b[0;34m\u001b[0m\u001b[0m\n\u001b[0m\u001b[1;32m     29\u001b[0m \u001b[0mnorm\u001b[0m \u001b[0;34m=\u001b[0m \u001b[0msumrelig\u001b[0m \u001b[0;34m=\u001b[0m \u001b[0mplt\u001b[0m\u001b[0;34m.\u001b[0m\u001b[0mhist\u001b[0m\u001b[0;34m(\u001b[0m\u001b[0mj\u001b[0m\u001b[0;34m,\u001b[0m \u001b[0mnormed\u001b[0m\u001b[0;34m=\u001b[0m\u001b[0;32mTrue\u001b[0m\u001b[0;34m,\u001b[0m \u001b[0mcolor\u001b[0m\u001b[0;34m=\u001b[0m\u001b[0;34m'red'\u001b[0m\u001b[0;34m,\u001b[0m \u001b[0mlabel\u001b[0m\u001b[0;34m=\u001b[0m\u001b[0;34m'norm'\u001b[0m\u001b[0;34m,\u001b[0m \u001b[0malpha\u001b[0m\u001b[0;34m=\u001b[0m\u001b[0;36m.5\u001b[0m\u001b[0;34m)\u001b[0m\u001b[0;34m\u001b[0m\u001b[0m\n\u001b[1;32m     30\u001b[0m \u001b[0mplt\u001b[0m\u001b[0;34m.\u001b[0m\u001b[0mlegend\u001b[0m\u001b[0;34m(\u001b[0m\u001b[0;34m)\u001b[0m\u001b[0;34m\u001b[0m\u001b[0m\n",
      "\u001b[0;31mNameError\u001b[0m: name 'christian' is not defined"
     ]
    },
    {
     "data": {
      "image/png": "[encoded data removed]",
      "text/plain": [
       "<matplotlib.figure.Figure at 0x7fdefc7334a8>"
      ]
     },
     "metadata": {},
     "output_type": "display_data"
    }
   ],
   "source": [
    "import matplotlib.pyplot as plt\n",
    "from matplotlib import cm\n",
    "import numpy as np\n",
    "import pandas as pd\n",
    "import seaborn as sns\n",
    "from scipy.stats import ttest_ind\n",
    "from savReaderWriter import SavReaderNp\n",
    "from savReaderWriter import SavReader\n",
    "import scipy.stats\n",
    "%matplotlib inline\n",
    "\n",
    "# Loading our Dataset into a Dataframe\n",
    "df = pd.read_csv('World-Religion-Dataset-National-Religion-Dataset.csv', thousands=',')\n",
    "\n",
    "plt.figure(figsize=(4,6))\n",
    "\n",
    "mu = 30142342.894 # mean of distribution (religious)\n",
    "sigma = 106861016.631 # standard deviation of distribution (religious)\n",
    "j = mu + sigma * np.random.randn(15000)\n",
    "\n",
    "\n",
    "norm = j\n",
    "\n",
    "plt.axvline(norm.mean(), color='b', linestyle='solid', linewidth=2)\n",
    "plt.axvline(norm.mean()-norm.std(), color='b', linestyle='dashed', linewidth=2)\n",
    "plt.axvline(norm.mean()+norm.std(), color='b', linestyle='dashed', linewidth=2)\n",
    "\n",
    "sumrelig = plt.hist(christian, normed=True, color='blue', label='Religious', alpha=.5)\n",
    "norm = sumrelig = plt.hist(j, normed=True, color='red', label='norm', alpha=.5)\n",
    "plt.legend()\n",
    "\n",
    "plt.ylabel('Probability')\n",
    "plt.xlabel('Religious')\n",
    "plt.title('Religious Data Distribution')\n",
    "\n",
    "plt.yscale('log')\n",
    "\n",
    "plt.tight_layout()\n",
    "\n",
    "plt.show()\n",
    "\n",
    "# Slicing portions of the data we want to work with and assigning them to variables\n",
    "christian = df['CHRSGEN'][0:14]\n",
    "pop = df['POP'][0:14]\n",
    "year = df['YEAR'][0:14]\n",
    "\n",
    "# print(df.describe())\n",
    "\n",
    "\n",
    "scipy.stats.mstats.normaltest(christian)"
   ]
  },
  {
   "cell_type": "code",
   "execution_count": null,
   "metadata": {
    "collapsed": false
   },
   "outputs": [],
   "source": [
    "# df.hist()\n"
   ]
  },
  {
   "cell_type": "markdown",
   "metadata": {},
   "source": [
    "Looks like our data is not normally distributed.  The dotted lines represent one standard deviation from our mean and show that most of our data is outside of them. Let's dive a little deeper into our data.\n",
    "\n",
    "It is worth noting that exploring the changes in adherents of every religion in the United States would be exaustive but counter-productive to arriving at a meaningful conclusion to our question.  The gist here is, what is happening with most Americans in the U.S. and religion?  With this in mind, I have decided to look at how the number of people identifying as Christian in the United States has changed over the years given its dominance amongst American religious belief."
   ]
  },
  {
   "cell_type": "code",
   "execution_count": null,
   "metadata": {
    "collapsed": false
   },
   "outputs": [],
   "source": [
    "# Slicing portions of the data we want to work with and assigning them to variables\n",
    "christian = df['CHRSGEN'][0:14]\n",
    "pop = df['POP'][0:14]\n",
    "year = df['YEAR'][0:14]\n",
    "\n",
    "# Normalizing for population\n",
    "crp_norm = (christian / pop) * 100\n",
    "\n",
    "# Plotting our data\n",
    "christ, = plt.plot(year, crp_norm, color='blue', label = 'Christians')\n",
    "plt.xlabel('Year')\n",
    "plt.ylabel('Percentage of Christian Adherents')\n",
    "plt.title('U.S. Christian Adherents by Year')\n",
    "plt.legend(loc = 'upper left', handles=[christ])\n",
    "plt.xlim([1945, 2010])\n",
    "\n",
    "plt.show()"
   ]
  },
  {
   "cell_type": "markdown",
   "metadata": {},
   "source": [
    "As you can see, there is more than an 11 percent drop in Christian adherents between 1990 and 2010 when normalized for the U.S. population. What is happening here?  Let's add to our graph the trend of those identifying as non-religious over the same period. "
   ]
  },
  {
   "cell_type": "code",
   "execution_count": null,
   "metadata": {
    "collapsed": false
   },
   "outputs": [],
   "source": [
    "nonrelig = df['NONRELIG'][0:14]\n",
    "\n",
    "nrp_norm = (nonrelig / pop) * 100\n",
    "\n",
    "nonrel, = plt.plot(year, nrp_norm, color='purple', label = 'Non-religious')\n",
    "christ, = plt.plot(year, crp_norm, color='blue', label = 'Christians')\n",
    "\n",
    "plt.xlabel('Year')\n",
    "plt.ylabel('Percentage of Christian adherents \\n and non-religious')\n",
    "plt.title('U.S. Christianity Versus \\n Non-religious by Year')\n",
    "plt.legend(loc = 'upper left', handles=[nonrel, christ])\n",
    "plt.xlim([1945, 2010])\n",
    "\n",
    "plt.show()"
   ]
  },
  {
   "cell_type": "markdown",
   "metadata": {},
   "source": [
    "Wow!  We see the inverse of the Christian trend with those saying they are non-religious and it takes a huge turn beginning in 1990 to the tune of 9 percent over the next 10 years.  Clearly, Americans in the U.S. are losing their faith, but why?"
   ]
  },
  {
   "cell_type": "markdown",
   "metadata": {},
   "source": [
    "## What is causing the loss of faith in America?"
   ]
  },
  {
   "cell_type": "markdown",
   "metadata": {},
   "source": [
    "Before we get into the significance of the 90's as they relate to these trends in religion, I figured we should explore our second question to see how the data changes across demographics like access to the internet, income, education, birth generation, race, gender, and geographic region.  Here, we'll take the meaning of losing faith a bit further with the introduction of the label atheist, a greek word literally meaning \"without god\" with a colloquial understanding of \"without belief in any gods\".  We'll see if we can find any significant correlation with the rapid loss of faith in the 90's.  Let's start with how atheism is distributed across generations using data from a 2014 study of the religious landscape in the U.S. by the Pew Research Center."
   ]
  },
  {
   "cell_type": "code",
   "execution_count": null,
   "metadata": {
    "collapsed": false
   },
   "outputs": [],
   "source": [
    "df_rls = pd.read_csv('2014-religious-landscape-study.csv', thousands=',', low_memory=False)\n",
    "rel_gnrtn = df_rls.groupby(['What is your present religion, if any? Are you Protestant, Roman Catholic, Mormon, Orthodox such as Greek or Russian Ort_labels', 'Respondent\\'s generational cohort_labels'])['Respondent\\'s generational cohort_labels'].count()\n",
    "\n",
    "explode = (0,0,.1,0,.1,0)\n",
    "n1 = 35073 \n",
    "\n",
    "atheist_gnrtn = rel_gnrtn[13:19] / n1 * 100 \n",
    "\n",
    "christ_gnrtn = rel_gnrtn[45:52]\n",
    "\n",
    "cs=cm.Set1(np.arange(40)/40.)\n",
    "atheist_gnrtn.plot(kind='pie', figsize=(7,7), label='Atheists by Generation', explode=explode, shadow=True, colors=cs, autopct='%1.0f%%')\n",
    "plt.show()"
   ]
  },
  {
   "cell_type": "markdown",
   "metadata": {},
   "source": [
    "Here, we can see a steady loss of faith over generations but something significant is happening when we look at the amount of atheist millennials.  Atheism amongst millennials has grown by 162.5% over Generation X.  Why has there been so much growth in atheism during this time?  \n",
    "\n",
    "My theory is that the Internet, the most significant human advancement during this period, may have something to do with it.  So far, this data is converging nicely with our graph showing the inverse change between Christians and the non-religious during the 90's.  Let's see how the relationship with the non-religious stacks up agaisnt the growing trend of households with Internet in the U.S."
   ]
  },
  {
   "cell_type": "code",
   "execution_count": null,
   "metadata": {
    "collapsed": false,
    "scrolled": true
   },
   "outputs": [],
   "source": [
    "df3 = pd.read_csv('Internet_Use_USA_cor.csv', thousands=',')[8:20][::-1]\n",
    "\n",
    "year2 = df3['YEAR'].astype('int')\n",
    "tot = df3['TOTAL_NUM'].astype('int')\n",
    "percom = df3['PER_COM'].astype('float')\n",
    "pernet = df3['PER_NET'].astype('float')\n",
    "\n",
    "net_by_year, = plt.plot(year2, pernet, color='green', label = 'Households With Internet')\n",
    "nonrel, = plt.plot(year, nrp_norm, color='purple', label = 'Non-religious')\n",
    "\n",
    "plt.xlabel('Year')\n",
    "plt.ylabel('Percentage of Population')\n",
    "plt.title('U.S. Households with Internet')\n",
    "plt.legend(loc='upper left', handles=[net_by_year, nonrel])\n",
    "plt.xlim([1945, 2015])\n",
    "plt.show()"
   ]
  },
  {
   "cell_type": "markdown",
   "metadata": {},
   "source": [
    "Although we don't have data for households with internet before 1993, it is interesting to note that as more households became connected to the net, more people began reporting that they were non-religious.  The amount of people reporting to be non-religious has increased 150% since reports of households being connected to the Internet began.  \n",
    "\n",
    "Perhaps as more information becomes readily available, more people begin to question the foundations of their religious beliefs.  However, despite access to any particular source of information, what could cause people to be critical of their religious beliefs?  As critical thinking skills generally become more refined with education, let's take a look at how Christians and Atheists fare when it comes to education. "
   ]
  },
  {
   "cell_type": "code",
   "execution_count": null,
   "metadata": {
    "collapsed": false
   },
   "outputs": [],
   "source": [
    "rel_educ = df_rls.groupby(['What is your present religion, if any? Are you Protestant, Roman Catholic, Mormon, Orthodox such as Greek or Russian Ort_labels', 'EDUC. What is the highest level of school you have completed or the highest degree you have received? _labels'])['Which of the following describes your race?_labels'].count()\n",
    "atheist_educ = rel_educ[18:26] / rel_educ[18:26].sum() * 100\n",
    "christ_educ= rel_educ[44:52] / rel_educ[44:52].sum() * 100\n",
    "\n",
    "degrees = \n",
    "\n",
    "\n",
    "w = 0.3\n",
    "atheist_educ.plot(kind='barh', width = w, figsize=(7,10), color='purple', label='Atheist Education Level')\n",
    "christ_educ.plot(kind='barh', figsize=(7,10), color='pink', alpha=.5, label='Christian Education Level' )\n",
    "plt.legend(loc='upper right')\n",
    "plt.ylabel('Education Level Obtained (2014)')\n",
    "plt.xlabel('Percentage')\n",
    "\n",
    "plt.show()"
   ]
  },
  {
   "cell_type": "markdown",
   "metadata": {},
   "source": [
    "Based on the data, it seems more Atheists tend to have graduate and postgraduate level degrees and more Christians tend to have only high school diplomas.  It is definitely interesting to see that the higher the education, the more likely one is to be an Atheist."
   ]
  },
  {
   "cell_type": "markdown",
   "metadata": {},
   "source": [
    "Let's see what happens when we juxtapose Atheists and Christians with income."
   ]
  },
  {
   "cell_type": "code",
   "execution_count": null,
   "metadata": {
    "collapsed": false
   },
   "outputs": [],
   "source": [
    "rel_income = df_rls.groupby(['What is your present religion, if any? Are you Protestant, Roman Catholic, Mormon, Orthodox such as Greek or Russian Ort_labels', 'INCOME. Last year, that is in 2013, what was your total family income from all sources, before taxes? Just stop me when _labels'])['EDUC. What is the highest level of school you have completed or the highest degree you have received? _labels'].count()\n",
    "atheist_income = rel_income[19:29] / rel_income[19:29].sum() * 100\n",
    "christ_income = rel_income[47:57] / rel_income[47:57].sum() * 100\n",
    "\n",
    "w = 0.3\n",
    "christ_income.plot(kind='barh',width=w, figsize=[7, 10], label=\"Christians\")\n",
    "atheist_income.plot(kind='barh', figsize=[7, 10], color='g', alpha=.5, label=\"Atheists\")\n",
    "\n",
    "plt.legend(loc='upper right')\n",
    "plt.ylabel('Income (2014)')\n",
    "plt.xlabel('Percentage')\n",
    "plt.show()"
   ]
  },
  {
   "cell_type": "markdown",
   "metadata": {},
   "source": [
    "Its no surprise Atheists generally tend to earn more than Christians given that earning potential increases with education, but could it be that Christians are losing their faith as they become more educated and thus more financially independent? Let's take a look at a few other potential contributors to Christians losing faith like race, gender, the state lived in, and political affiliation."
   ]
  },
  {
   "cell_type": "code",
   "execution_count": null,
   "metadata": {
    "collapsed": false
   },
   "outputs": [],
   "source": [
    "rel_race = df_rls.groupby(['What is your present religion, if any? Are you Protestant, Roman Catholic, Mormon, Orthodox such as Greek or Russian Ort_labels', 'Race-Ethnicity_labels'])['Race-Ethnicity_labels'].count()\n",
    "atheist_race = rel_race[10:15]\n",
    "christ_race = rel_race[45:52]\n",
    "\n",
    "explode = (.1,0,.1,0,0)\n",
    "\n",
    "cs=cm.Set1(np.arange(40)/40.)\n",
    "atheist_race.plot(kind='pie', figsize=(7,7), label='Atheists by Race', colors=cs, explode=explode, shadow=True, autopct='%1.0f%%')\n",
    "plt.show()"
   ]
  },
  {
   "cell_type": "markdown",
   "metadata": {},
   "source": [
    "Its not surprising that most of the faithless Americans are White given they make up 63% of the U.S. population.  I was surprised,  however, to find so many faithless minorities. With more data, we could see if the changing social dynamics between races, like more integration or cultural tolerance, may have impacted the rate of change in religious status."
   ]
  },
  {
   "cell_type": "code",
   "execution_count": null,
   "metadata": {
    "collapsed": false
   },
   "outputs": [],
   "source": [
    "rel_gen = df_rls.groupby(['What is your present religion, if any? Are you Protestant, Roman Catholic, Mormon, Orthodox such as Greek or Russian Ort_labels', 'Respondent\\'s sex. Based on respondent\\'s self-report, unless the respondent declined to answer the question or indicated _labels'])['Respondent\\'s sex. Based on respondent\\'s self-report, unless the respondent declined to answer the question or indicated _labels'].count()\n",
    "atheist_gen = rel_gen[8:10]\n",
    "christ_gen = rel_gen[45:52]\n",
    "\n",
    "explode= (0, .1)\n",
    "\n",
    "atheist_gen.plot(kind='pie', figsize=(7,7), label='Atheists by Gender', explode=explode, shadow=True, autopct='%1.0f%%')\n",
    "plt.show()"
   ]
  },
  {
   "cell_type": "markdown",
   "metadata": {},
   "source": [
    "As you can see, more males have a lack of faith than females.  It would be great if we had more data to see the percentage of men and women who have reported to be faithless over time.  I hope to seek more datasets in the future to see if we can find any reasonable correlation with this. "
   ]
  },
  {
   "cell_type": "code",
   "execution_count": null,
   "metadata": {
    "collapsed": false,
    "scrolled": true
   },
   "outputs": [],
   "source": [
    "reli = df_rls.groupby(['What is your present religion, if any? Are you Protestant, Roman Catholic, Mormon, Orthodox such as Greek or Russian Ort_labels', 'State based on self-reported zipcode_labels'])['State based on self-reported zipcode_labels'].count()\n",
    "\n",
    "states = {0:'Mississippi', 1: 'West Virginia', 2: 'Maine', 3: 'Kansas', 4: 'Alabama', 5: 'South Carolina', \n",
    "          6: 'Delaware', 7: 'Rhode Island', 8: 'Nebraska', 9: 'Arkansas', 10: 'Tennessee', 11:'South Dakota', \n",
    "        12: 'North Dakota', 13: 'Hawaii', 14: 'New Mexico', 15: 'Louisiana', 16: 'Iowa', 17:'Utah', 18: 'Nevada',\n",
    "         19: 'Wyoming', 20: 'Idaho', 21: 'Montana', 22: 'Oklahoma', 23: 'Kentucky', 24: 'Alaska', 25: 'Minnesota',\n",
    "         26: 'District of Columbia', 27: 'Missouri', 28: 'New Hampshire', 29: 'Virginia', 30: 'Connecticut', \n",
    "          31: 'Wisconsin', 32: 'Georgia', 33: 'Maryland', 34: 'Ohio', 35: 'New Jersey', 36: 'Vermont',\n",
    "         37: 'Indiana', 38: 'Arizona', 39: 'Colorado', 40: 'North Carolina', 41: 'Michigan', 42: 'Oregon',\n",
    "          43: 'Massachusetts', 44: 'Washington', 45: 'Texas', 46: 'Pennsylvania', 47: 'Illinois', 48: 'Florida',\n",
    "          49: 'New York', 50: 'California'}\n",
    "\n",
    "# states1 = ['Mississippi', 'West Virginia', 'Maine', 'Kansas', 'Alabama', 'South Carolina', \n",
    "#           'Delaware', 'Rhode Island', 'Nebraska',  'Arkansas', 'Tennessee', 'South Dakota', \n",
    "#         'North Dakota', 'Hawaii', 'New Mexico', 'Louisiana', 'Iowa','Utah', 'Nevada',\n",
    "#         'Wyoming', 'Idaho', 'Montana', 'Oklahoma', 'Kentucky', 'Alaska', 'Minnesota',\n",
    "#         'District of Columbia', 'Missouri', 'New Hampshire', 'Virginia', 'Connecticut', \n",
    "#          'Wisconsin', 'Georgia', 'Maryland', 'Ohio', 'New Jersey', 'Vermont',\n",
    "#          'Indiana', 'Arizona', 'Colorado', 'North Carolina', 'Michigan', 'Oregon',\n",
    "#          'Massachusetts', 'Washington', 'Texas', 'Pennsylvania', 'Illinois', 'Florida',\n",
    "#          'New York', 'California']\n",
    "\n",
    "\n",
    "atheism_by_state = reli[61:112] / reli[61:112].sum() * 100\n",
    "christ_by_state = reli[173:224] / reli[173:224].sum() * 100\n",
    "\n",
    "christ_state = df_rls.groupby(['What is your present religion, if any? Are you Protestant, Roman Catholic, Mormon, Orthodox such as Greek or Russian Ort_labels', 'State based on self-reported zipcode_labels'], as_index=False)['State based on self-reported zipcode_labels']\n",
    "\n",
    "w = 0.3\n",
    "ax = christ_by_state.sort_values(axis=0, ascending =True).plot(kind='barh', figsize=[9,15], color='m', label='Christians')\n",
    "\n",
    "ax2 = atheism_by_state.sort_values(axis=0, ascending =True).plot(kind='barh', width=w, figsize=[9,15], color='w', alpha=.7, label='Atheists')\n",
    "# christ_by_state.index = christ_by_state.index.to_series().map(states)\n",
    "\n",
    "# ax.set_yticks(range(len([states])))\n",
    "# ax.set_yticklabels([states])\n",
    "\n",
    "# ax2.set_yticks(range(len(states)))\n",
    "# ax2.set_yticklabels(states)\n",
    "\n",
    "plt.ylabel('Atheists VS Christians By State')\n",
    "plt.legend(loc='upper right')\n",
    "plt.show()\n"
   ]
  },
  {
   "cell_type": "markdown",
   "metadata": {},
   "source": [
    "Here, we see some states have a higher percentage of Atheists than others like California, New York, and Florida.  However, there is no way to ascertain whether there is a  correlation between growing up in certain states and Americans losing their faith without data showing the changes of Atheists and Christians per state over time.  So, to draw any reasonable conclusions here, we will need more data.  Next, we'll take a look a Atheism as it relates to political affiliation."
   ]
  },
  {
   "cell_type": "code",
   "execution_count": null,
   "metadata": {
    "collapsed": false
   },
   "outputs": [],
   "source": [
    "rel_pol_party = df_rls.groupby(['What is your present religion, if any? Are you Protestant, Roman Catholic, Mormon, Orthodox such as Greek or Russian Ort_labels', 'PARTY. In politics TODAY, do you consider yourself a Republican, Democrat, or Independent?_labels'])['PARTY. In politics TODAY, do you consider yourself a Republican, Democrat, or Independent?_labels'].count()\n",
    "atheist_pol_party = rel_pol_party[12:18]\n",
    "christ_pol_party = rel_pol_party[45:52]\n",
    "explode = (0, 0, 0, .1, 0, .1)\n",
    "\n",
    "cs=cm.Set1(np.arange(40)/40.)\n",
    "atheist_pol_party.plot(kind='pie', figsize=(7,7), label='Atheists by Political Party', colors=cs, explode=explode, shadow=True, autopct='%1.0f%%')\n",
    "plt.show()"
   ]
  },
  {
   "cell_type": "markdown",
   "metadata": {},
   "source": [
    "Its interesting to see that Atheists are split to either being Democrat or Independent with only 6% affilliating with Republican."
   ]
  },
  {
   "cell_type": "markdown",
   "metadata": {},
   "source": [
    "## What caused Americans to lose their faith the most?"
   ]
  },
  {
   "cell_type": "markdown",
   "metadata": {},
   "source": [
    "It seems we can reasonably conclude that the Internet, education, and the generation one is born in have a correlation with the drop in Christian faith in the U.S., but which affects the faith of Americans most?  The most significant correlation seems to be the Internet but it would be nice to give weight to each according to the probability of their impact on Americans losing faith.  First, let's make sure our findings in comparing these groups are be meaningful.  We'll run a T-test to determine the statistical significance of comparing these populations without applied weights."
   ]
  },
  {
   "cell_type": "code",
   "execution_count": null,
   "metadata": {
    "collapsed": false
   },
   "outputs": [],
   "source": [
    "nonrel_samp = df['NONRELIG'][0:14]\n",
    "net_t_value2 = ttest_ind(pernet, nonrel_samp, equal_var=False, nan_policy='omit')\n",
    "\n",
    "\n",
    "mu_gen = rel_gnrtn[13:19]\n",
    "gen_t_value2 = ttest_ind(mu_gen, nonrel_samp, equal_var=False, nan_policy='omit')\n",
    "\n",
    "\n",
    "mu_ed = rel_educ[18:26]\n",
    "ed_t_value2 = ttest_ind(mu_ed, nonrel_samp, equal_var=False)\n",
    "\n",
    "\n",
    "print(net_t_value2)\n",
    "print(gen_t_value2)\n",
    "print(ed_t_value2)\n",
    "\n",
    "# print(scipy.stats.pearsonr(nonrel_samp, mu_gen))\n",
    "# print(scipy.stats.pearsonr(nonrel_samp, mu_gen))"
   ]
  },
  {
   "cell_type": "markdown",
   "metadata": {},
   "source": [
    "The results of the T-test above indicate a high variance in our samples.  The statistic, our t-value, tells us that the means of our samples are more than eight standard deviations apart while our small p-values tell us it is highly unlikely we would get such broad t-values if our populations weren't different.  This gives us confidence that our findings will be statiscally significant.  Now that we know our unweighted samples are statistically significant, we could weight our samples for covariance perhaps using the Mann-Whitney test.  However, given that this test is only accurate for datasets with 20 data points or larger and ours only has 13 data points, our best option would probably be supervised learning.  In the future, I would like to revisit this so we could extract more meaning from our observations."
   ]
  }
 ],
 "metadata": {
  "anaconda-cloud": {},
  "kernelspec": {
   "display_name": "Python [conda root]",
   "language": "python",
   "name": "conda-root-py"
  },
  "language_info": {
   "codemirror_mode": {
    "name": "ipython",
    "version": 3
   },
   "file_extension": ".py",
   "mimetype": "text/x-python",
   "name": "python",
   "nbconvert_exporter": "python",
   "pygments_lexer": "ipython3",
   "version": "3.5.2"
  }
 },
 "nbformat": 4,
 "nbformat_minor": 1
}
